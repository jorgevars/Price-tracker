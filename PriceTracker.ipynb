{
 "metadata": {
  "language_info": {
   "codemirror_mode": {
    "name": "ipython",
    "version": 3
   },
   "file_extension": ".py",
   "mimetype": "text/x-python",
   "name": "python",
   "nbconvert_exporter": "python",
   "pygments_lexer": "ipython3",
   "version": "3.8.3-final"
  },
  "orig_nbformat": 2,
  "kernelspec": {
   "name": "python3",
   "display_name": "Python 3"
  }
 },
 "nbformat": 4,
 "nbformat_minor": 2,
 "cells": [
  {
   "cell_type": "code",
   "execution_count": 1,
   "metadata": {},
   "outputs": [],
   "source": [
    "#import the libraries needed\n",
    "from bs4 import BeautifulSoup\n",
    "import os\n",
    "import pandas as pd\n",
    "import requests\n",
    "import smtplib"
    "from time import sleep
   ]
  },
  {
   "cell_type": "code",
   "execution_count": 2,
   "metadata": {},
   "outputs": [],
   "source": [
    "#Path to the CSV's with all the data\n",
    "csv_file = os.path.dirname(os.path.abspath('')) +'\\\\Price tracker\\\\Price tracker.csv'\n",
    "ids_file = os.path.dirname(os.path.abspath('')) +'\\\\Price tracker\\\\IDS.csv'\n",
    "\n",
    "#Read the CSV's\n",
    "data = pd.read_csv(csv_file)\n",
    "ids = pd.read_csv(ids_file)\n",
    "\n",
    "#Asignar los valores de correo y contraseña para el envio de correo\n",
    "mail = data.iloc[0,0]         #mail usado en el csv\n",
    "password = data.iloc[0,1]     #password usado en el csv"
   ]
  },
  {
   "cell_type": "code",
   "execution_count": 3,
   "metadata": {},
   "outputs": [],
   "source": [
    "#Definir los headers para los requests\n",
    "headers = {\"User-Agent\": 'Mozilla/5.0 (Windows NT 10.0; Win64; x64) AppleWebKit/537.36 (KHTML, like Gecko) Chrome/86.0.4240.111 Safari/537.36 Edg/86.0.622.58'}"
   ]
  },
  {
   "cell_type": "code",
   "execution_count": 4,
   "metadata": {},
   "outputs": [],
   "source": [
    "def send_mail(list_number, title, converted_price):\n",
    "    #Inicializa los valores de correo\n",
    "    server = smtplib.SMTP('smtp.gmail.com', 587)\n",
    "    server.ehlo()\n",
    "    server.starttls()\n",
    "    server.ehlo()\n",
    "\n",
    "    #Login al correo\n",
    "    server.login(mail, password)\n",
    "\n",
    "    #Envia un corro de error en el link\n",
    "    if converted_price == 0:\n",
    "        subject = 'Revisa el link!!'\n",
    "        body = 'Revisa el link:\\n\\nYa que:\\t\\t' + title.strip() + '\\n\\nNo aparece el precio\\n\\n' + data['URL'][list_number]\n",
    "    #Envia un correo con el artículo con precio menor al max_price\n",
    "    else:\n",
    "        subject = 'El precio bajo!!'\n",
    "        body = ('Revisa el link:\\n\\nYa que:\\t\\t' + \n",
    "                title.strip() + '\\n\\nEsta en:\\t$' + \n",
    "                '{:,.2f}'.format(converted_price) + \n",
    "                '\\n\\n' + data['URL'][list_number])    \n",
    "\n",
    "    \n",
    "    #Crea el correo\n",
    "    msg = f\"Subject: {subject}\\n\\n{body}\"\n",
    "    #Enviar correo\n",
    "    server.sendmail(mail, mail,msg)\n",
    "\n",
    "    print('El correo ha sido enviado')\n",
    "    #Salida del server\n",
    "    server.quit()"
   ]
  },
  {
   "cell_type": "code",
   "execution_count": 5,
   "metadata": {},
   "outputs": [],
   "source": [
    "def check_price(list_number):\n",
    "    #Descarga los dartos de la URL\n",
    "    session = requests.Session()\n",
    "    cookies = dict(cookies_are='working')\n",
    "    page = requests.get(data[\"URL\"][list_number], headers = headers, cookies = cookies)\n",
    "    soup = BeautifulSoup(page.content, 'lxml')\n",
    "\n",
    "    #Encontrar la URL principal\n",
    "    end_of_URL = data[\"URL\"][list_number].find(\"/\")\n",
    "    n = 3   #Para encontrar el tercer \"/\" indicando el fin de la URL principal \n",
    "    while end_of_URL >= 0 and n > 1:    #Encuentra la posición del final de la URL principal\n",
    "        end_of_URL = data['URL'][list_number].find(\"/\", end_of_URL + 1)\n",
    "        n -= 1\n",
    "    URL_principal = data['URL'][list_number][8:end_of_URL]\n",
    "\n",
    "    #Encontrar la posición en el dataframe de ids\n",
    "    id_loc = ids.loc[ids['URL'] == URL_principal].index[0]\n",
    "\n",
    "    #Encontrar el precio de cada pagina\n",
    "    if 'www.amazon.com' in URL_principal:\n",
    "        title = soup.find(id = ids.iloc[id_loc, 1]).get_text().strip()\n",
    "        try:\n",
    "            price = soup.find(id = ids.iloc[id_loc, 2]).get_text().strip()\n",
    "        except:\n",
    "            price = \"0\"\n",
    "    if (URL_principal == 'www.bestbuy.com.mx' or \n",
    "        URL_principal == 'www.mercadolibre.com.mx'):\n",
    "        title = soup.find(class_ = ids.iloc[id_loc, 1]).get_text().strip()\n",
    "        try:\n",
    "            price = soup.find(class_ = ids.iloc[id_loc, 2]).get_text().strip()\n",
    "        except:\n",
    "            price = \"0\"\n",
    "    \n",
    "    #Convertir el precio en float\n",
    "    converted_price = float(price.replace(',','').replace('$',''))\n",
    "\n",
    "    #Imprime datos utiles\n",
    "    print(URL_principal + \"\\t\" + title + \"\\t$\" + str(converted_price))\n",
    "    \n",
    "    #Enviar correo con instrucciones\n",
    "    if(converted_price <= float(data[\"Max_price\"][list_number])):\n",
    "        send_mail(list_number,title,converted_price)"
   ]
  },
  {
   "cell_type": "code",
   "execution_count": 6,
   "metadata": {},
   "outputs": [
    {
     "output_type": "stream",
     "name": "stdout",
     "text": [
      "www.amazon.com.mx\tNintendo Consola Switch Neon 32GB Version 1.1 - Standard Edition\t$8690.0\n",
      "www.bestbuy.com.mx\tNintendo - Consola Switch de 32 GB con controles Joy-Con - Version 1.1 - Azul/Rojo Neon\t$9999.0\n",
      "www.amazon.com.mx\tNintendo Consola Switch Gris 32GB Version 1.1 - Standard Edition\t$8890.0\n",
      "www.amazon.com\tNintendo Switch 32GB Console Video Games w/ 32GB Memory Card | Neon Red/Neon Blue Joy-Con | 1080p Resolution | 802.11ac WiFi | HDMI | Surround Sound | IR Motion Camera\t$393.99\n",
      "El correo ha sido enviado\n",
      "programa finalizado :)\n"
     ]
    }
   ],
   "source": [
    "while True:
    "    for list_number in range(data['URL'].shape[0]):\n",
    "        check_price(list_number)\n",
    "    print(\"programa finalizado :)\")"
    "    #Repetir cada hora
    "    #sleep(3600)
    "    #Repetir cada día
    "    sleep(86400)
   ]
  },
  {
   "cell_type": "code",
   "execution_count": null,
   "metadata": {},
   "outputs": [],
   "source": []
  }
 ]
}
